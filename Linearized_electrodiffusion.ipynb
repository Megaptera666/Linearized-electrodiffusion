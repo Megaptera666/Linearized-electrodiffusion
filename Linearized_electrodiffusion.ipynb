{
  "nbformat": 4,
  "nbformat_minor": 0,
  "metadata": {
    "colab": {
      "name": "Linearized_electrodiffusion.ipynb",
      "provenance": [],
      "collapsed_sections": [],
      "authorship_tag": "ABX9TyNWtZz5x+AXZ/Zxqzhmi968",
      "include_colab_link": true
    },
    "kernelspec": {
      "name": "python3",
      "display_name": "Python 3"
    },
    "accelerator": "GPU"
  },
  "cells": [
    {
      "cell_type": "markdown",
      "metadata": {
        "id": "view-in-github",
        "colab_type": "text"
      },
      "source": [
        "<a href=\"https://colab.research.google.com/github/Megaptera666/Linearized-electrodiffusion/blob/master/Linearized_electrodiffusion.ipynb\" target=\"_parent\"><img src=\"https://colab.research.google.com/assets/colab-badge.svg\" alt=\"Open In Colab\"/></a>"
      ]
    },
    {
      "cell_type": "markdown",
      "metadata": {
        "id": "lrNxH7ZB2wU0",
        "colab_type": "text"
      },
      "source": [
        "#Electrodiffusion of K<sup>+</sup> through small, tortuous extracellular spaces in the presence of K<sup>+</sup> sources and sinks\n",
        "##Application of a linearized version of the Nernst-Plank equation\n"
      ]
    },
    {
      "cell_type": "markdown",
      "metadata": {
        "id": "QEJ91svHR0z2",
        "colab_type": "text"
      },
      "source": [
        "#Problem definition\n",
        "\n",
        "<p>The brain is comprised of millions of neurons that incenssantly produce cognitive computations. Unlike in the cables and chips of man-made circuits, the electric signals underlying these computations are mediated by the flux of of ions such as K<sup>+</sup>. The number of ions required to carry electric currents is minute. However, in some cases, neurons are so densely packed that the extracellular concentration of K<sup>+</sup> ([K]<sub>o</sub>, in mol cm<sup>-3</sup>) is prone to change, making the regulation of [K]<sub>o</sub> a widespread challenge throughout the brain.\n",
        "\n",
        "<p>This script calculates [K]<sub>o</sub> as a function of position in a two-dimentional space in the presence of K<sup>+</sup> sources and sinks and in the presence of an extracellular electric field. The script utilizes the numerical method of lines to calculate the rate of change in [K]<sub>o</sub>(x) (in mol cm <sup>-3</sup> s<sup>-1</sup>), as follows.\n",
        "\n",
        "<p>The [continuity equation](https://en.wikipedia.org/wiki/Continuity_equation) dictates that, if the lateral flux of K<sup>+</sup> (J<sup>K</sup><sub>electrodiffusion</sub> (x) , in mol cm<sup>-2</sup> s<sup>-1</sup>) is not in balance with the sources or sinks of K<sup>+</sup> (Q<sub>s</sub>, in mol cm<sup>-3</sup> s<sup>-1</sup>), then [K]<sub>o</sub> (x) must be changing in time:\n",
        "$\n",
        "\\begin{align}\n",
        "\\frac{\\partial [K]_o(x)}{\\partial t} &= -\\frac{\\partial J^K_{electrodiffusion}(x)}{\\partial x} + Q_s(x) \\tag{1}\n",
        "\\end{align}$\n",
        "\n",
        "The [Nernst-plank equation](https://en.wikipedia.org/wiki/Nernst%E2%80%93Planck_equation) describes the flux of ions under the influence of both an ionic concentration gradient ($\\frac{\\partial [K]_o}{\\partial x}$ in mol cm <sup>-2</sup>) and an electric field ($\\frac{\\partial Vo}{\\partial x}$, in V cm <sup>-1</sup>)\n",
        "\n",
        "$\n",
        "\\begin{align}\n",
        " J^K_{electrodiffusion}(x) =- D^* \\bigg[\\frac{\\partial [K]_o}{\\partial x} + r [K]_o \\frac{\\partial Vo}{\\partial x} \\bigg] \\tag{2}\n",
        " \\end{align}$"
      ]
    },
    {
      "cell_type": "markdown",
      "metadata": {
        "id": "agtByk08bUS3",
        "colab_type": "text"
      },
      "source": [
        "#Problem definition "
      ]
    },
    {
      "cell_type": "code",
      "metadata": {
        "id": "MHtlIkS-cWKt",
        "colab_type": "code",
        "colab": {}
      },
      "source": [
        "#@title Libraries {display-mode: \"form\"}\n",
        "import numpy as np\n",
        "import scipy.integrate as integrate\n",
        "from numpy.core._multiarray_umath import ndarray\n",
        "from scipy.integrate import odeint\n",
        "import matplotlib.pyplot as plt\n",
        "import matplotlib.animation as animation\n",
        "from matplotlib import rc #This is to display the animation"
      ],
      "execution_count": 1,
      "outputs": []
    },
    {
      "cell_type": "code",
      "metadata": {
        "id": "152S7H3fQtB2",
        "colab_type": "code",
        "colab": {}
      },
      "source": [
        "#@title Geometry and time {display-mode: \"form\"}\n",
        "#@markdown Total length [um]:\n",
        "length_x = 30  #@param{type:\"number\"} \n",
        "#@markdown delta x [um]:\n",
        "delta_x = 0.1 #@param {type:\"number\"}\n",
        "x_steps = round(length_x / delta_x)\n",
        "\n",
        "#@markdown total time [ms]\n",
        "tf = 200  #@param {type:\"number\"}\n",
        "#@markdown delta t [ms]\n",
        "delta_t = 1.  #@param {type:\"number\"}\n",
        "nout = round(tf / delta_t)\n"
      ],
      "execution_count": 2,
      "outputs": []
    },
    {
      "cell_type": "code",
      "metadata": {
        "id": "DofusdkegNPR",
        "colab_type": "code",
        "colab": {}
      },
      "source": [
        "#@title Physical properties {display-mode: \"form\"}\n",
        "#@markdown #Tortuosity factor\n",
        "lambda_ = 1. #@param {type:\"number\"}\n",
        "#@markdown #Alpha factor\n",
        "alpha_ = 1. #@param {type:\"number\"}\n",
        "#@markdown #Difussion coefficient of K in ringers [um^2 s-1]\n",
        "Diffusion_coefficient = 2000  #@param {type:\"number\"} \n",
        "\n",
        "#@markdown #Sources and sinks  <br/>\n",
        "#@markdown magnitude [mM ms-1]\n",
        "source = 5  #@param {type:\"number\"} \n",
        "sink =-4  #@param {type:\"number\"} \n",
        "\n",
        "#@markdown location [um]\n",
        "source_start = 0  #@param {type:\"number\"} \n",
        "source_end = 20  #@param {type:\"number\"}\n",
        "sink_start =20  #@param {type:\"number\"} \n",
        "sink_end = 30  #@param {type:\"number\"} \n",
        "\n",
        "Faraday = 96485.33289  # [C mol - 1]\n",
        "R_ = 8.314  # [J K−1 mol−1] universal gas constant\n",
        "T = 310.15  # [K] 37 C in Kelvin\n",
        "r = (Faraday / (R_ * T))  # [C / J]\n",
        "\n",
        "#@markdown #Voltage gradient  <br/>\n",
        "#@markdown Magnitude at x=0 [mV]\n",
        "V_start = 1. #@param {type:\"number\"} \n",
        "#@markdown Magnitude at x=l [mV]\n",
        "V_end = 1. #@param {type:\"number\"} "
      ],
      "execution_count": 3,
      "outputs": []
    },
    {
      "cell_type": "code",
      "metadata": {
        "id": "oBaBN0J_YHW9",
        "colab_type": "code",
        "colab": {}
      },
      "source": [
        ""
      ],
      "execution_count": 3,
      "outputs": []
    },
    {
      "cell_type": "markdown",
      "metadata": {
        "id": "9ucTDJl5i0Ni",
        "colab_type": "text"
      },
      "source": [
        "#Problem instantiation"
      ]
    },
    {
      "cell_type": "code",
      "metadata": {
        "id": "WzvpF-YPiu3n",
        "colab_type": "code",
        "colab": {
          "base_uri": "https://localhost:8080/",
          "height": 879
        },
        "cellView": "form",
        "outputId": "ea7ef0b0-352e-4eef-9555-3713acfa8583"
      },
      "source": [
        "#@title Initial conditions\n",
        "Initial_ko_x = np.zeros(x_steps)\n",
        "Vo_x = np.zeros(x_steps)\n",
        "SRS_alpha = np.zeros(x_steps)\n",
        "SRS_tortuosity = np.zeros(x_steps)\n",
        "D_x = np.zeros(x_steps)\n",
        "source_x = np.zeros(x_steps)\n",
        "sink_x = np.zeros(x_steps)\n",
        "x_dim = np.linspace(0, length_x, x_steps)\n",
        "\n",
        "# Parametrize initial concentration\n",
        "Initial_ko_x[:] = 1.#x_dim[:] / 100.  # [mM]\n",
        "\n",
        "\n",
        "# Parametrize SRS alpha\n",
        "SRS_alpha.fill(alpha_)\n",
        "\n",
        "# Parametrize tortuosity\n",
        "SRS_tortuosity.fill(lambda_)\n",
        "\n",
        "# Calculate effective diffusion coefficient\n",
        "D_x[:] = Diffusion_coefficient / SRS_tortuosity[:] ** 2\n",
        "\n",
        "# Parametrize Vo_x\n",
        "Vo_x[:] = np.linspace(V_start,V_end, x_steps)\n",
        "\n",
        "# Calculate dVodx\n",
        "dVodx = np.gradient(Vo_x, delta_x)\n",
        "\n",
        "# Parametrize sources and sinks\n",
        "source_x[round(source_start/delta_x):round(source_end/delta_x)] = source  # [mM ms-1]\n",
        "# print(source_x)\n",
        "sink_x[round(sink_start/delta_x):round(sink_end/delta_x)] = sink  # [mM ms-1]\n",
        "\n",
        "#plot initial conditions\n",
        "fig = plt.figure(figsize=(10,15))\n",
        "#Initial Ko concentration\n",
        "Ax0 = fig.add_subplot(3, 2, 1)\n",
        "Ax0.plot(x_dim,Initial_ko_x,color=\"k\")\n",
        "Ax0.set_title(\"Initial [K]o profile\")\n",
        "Ax0.set_ylabel(\"Concentration (mM)\")\n",
        "#Alpha \n",
        "Ax1 = fig.add_subplot(3, 2, 2)\n",
        "color = 'tab:red'\n",
        "Ax1.set_title(\"Alpha and lambda\")\n",
        "Ax1.set_ylabel(\"Alpha\", color=color)\n",
        "Ax1.plot(x_dim,SRS_alpha,color=color)\n",
        "Ax1.tick_params(axis='y', labelcolor=color)\n",
        "#Lambda\n",
        "Ax2 = Ax1.twinx()  # instantiate a second axes that shares the same x-axis\n",
        "color = 'tab:blue'\n",
        "Ax2.set_ylabel('Tortuosity factor', color=color)  # we already handled the x-label with ax1\n",
        "Ax2.plot(x_dim,SRS_tortuosity, color=color)\n",
        "Ax2.tick_params(axis='y', labelcolor=color)\n",
        "# Ax1.legend(loc='best')\n",
        "#Effective diffusion coefficient\n",
        "Ax3 = fig.add_subplot(3, 2, 3)\n",
        "Ax3.plot(x_dim,D_x,color=\"k\")\n",
        "Ax3.set_title(\"Effective diffusion coefficient\")\n",
        "Ax3.set_ylabel(\"D* (um^2 s-1)\")\n",
        "#Effective diffusion coefficient\n",
        "Ax4 = fig.add_subplot(3, 2, 4)\n",
        "Ax4.plot(x_dim,Vo_x,color=\"k\")\n",
        "Ax4.set_title(\"Extracellular voltage\")\n",
        "Ax4.set_ylabel(\"Voltage (mV)\")\n",
        "#Sources and sinks\n",
        "#Source\n",
        "Ax5 = fig.add_subplot(3, 2, 5)\n",
        "color = 'tab:red'\n",
        "Ax5.set_title(\"K+ sources and sinks\")\n",
        "Ax5.set_ylabel(\"Source\", color=color)\n",
        "Ax5.set_ylim(sink-1,source+1)\n",
        "Ax5.plot(x_dim,source_x,color=color)\n",
        "Ax5.tick_params(axis='y', labelcolor=color)\n",
        "#Lambda\n",
        "Ax6 = Ax5.twinx()  # instantiate a second axes that shares the same x-axis\n",
        "color = 'tab:blue'\n",
        "Ax6.set_ylabel('Sink', color=color)  # we already handled the x-label with ax1\n",
        "Ax6.set_ylim(sink-1,source+1)\n",
        "Ax6.plot(x_dim,sink_x, color=color)\n",
        "Ax6.tick_params(axis='y', labelcolor=color)\n",
        "\n",
        "Ax4.set_xlabel(\"Distance (um)\")\n",
        "\n",
        "plt.subplots_adjust(hspace=0.5)"
      ],
      "execution_count": 4,
      "outputs": [
        {
          "output_type": "display_data",
          "data": {
            "image/png": "[encoded data removed]",
            "text/plain": [
              "<Figure size 720x1080 with 7 Axes>"
            ]
          },
          "metadata": {
            "tags": [],
            "needs_background": "light"
          }
        }
      ]
    },
    {
      "cell_type": "code",
      "metadata": {
        "id": "ei_ZT2MWPFWG",
        "colab_type": "code",
        "colab": {}
      },
      "source": [
        "#@title Derivative taker\n",
        "def simple_electrodif(t, u):\n",
        "    Faraday = 96485.33289  # [C mol - 1]\n",
        "    R_ = 8.314  # [J K−1 mol−1] universal gas constant\n",
        "    T = 310.15  # [K] 37 C in Kelvin\n",
        "    r = (Faraday / (R_ * T))  # [C / J]\n",
        "\n",
        "    C_x = np.zeros(x_steps)\n",
        "    Jk_diffusive = np.zeros(x_steps)\n",
        "    Jk_electrophoretic = np.zeros(x_steps)\n",
        "    Jk = np.zeros(x_steps)\n",
        "    dydx = np.zeros(x_steps)\n",
        "\n",
        "    C_x[:] = u[:] * 1e-15  # [mMoles um-3]\n",
        "    dCdx = np.gradient(C_x, delta_x, edge_order=2)\n",
        "\n",
        "    # No flux boundary conditions\n",
        "    #dCdx[0] = 0\n",
        "    #dCdx[len(dCdx) - 1] = 0\n",
        "\n",
        "    # Calculate lateral diffusive term\n",
        "    Jk_diffusive[:] = -D_x[:] * dCdx[:]  # [mMoles um-2 s-1]\n",
        "\n",
        "    # Calculate electric term\n",
        "    Jk_electrophoretic[:] = -D_x[:] * r * C_x[:] * dVodx[:] * 1e3  # [mMoles um-2 s-1]\n",
        "\n",
        "    # Net electrophoretic flux\n",
        "    Jk[:] = Jk_diffusive[:] + Jk_electrophoretic[:]  # [mMoles um-2 s-1]\n",
        "\n",
        "    # Change in concentration due to lateral flux\n",
        "    dCdt_electrophoretic = np.gradient(Jk, delta_x, edge_order=2) * -1e15  # [mMolar s-1]\n",
        "    dCdt_electrophoretic[0] = 0\n",
        "    dCdt_electrophoretic[len(dCdt_electrophoretic) - 1] = 0\n",
        "\n",
        "    dydx[:] = (source_x[:] + sink_x[:] + dCdt_electrophoretic[:]) * 1e-3\n",
        "\n",
        "    return dydx\n",
        "\n"
      ],
      "execution_count": 5,
      "outputs": []
    },
    {
      "cell_type": "code",
      "metadata": {
        "id": "YonfUS6UbpTL",
        "colab_type": "code",
        "colab": {}
      },
      "source": [
        "from scipy.integrate import odeint\n",
        "from scipy.integrate import solve_ivp\n",
        "tout=np.linspace(0,nout,tf)\n",
        "# tout=np.linspace(t0,5,5)\n",
        "# tout=np.zeros(1)\n",
        "# tout=1\n",
        "# out=np.zeros((na*3+na*nr))\n",
        "\n",
        "ncall=0\n",
        "# out,infodict=odeint(pde4Sa,u0,tout,tfirst=True,full_output=True)\n",
        "out_=solve_ivp(simple_electrodif,(0,tf),Initial_ko_x,t_eval=tout,vectorized=False,method='BDF', rtol=1e-6,atol=1e-6)\n",
        "\n",
        "out=out_.y.T"
      ],
      "execution_count": 10,
      "outputs": []
    },
    {
      "cell_type": "code",
      "metadata": {
        "id": "_RwJYwalckkM",
        "colab_type": "code",
        "colab": {
          "base_uri": "https://localhost:8080/",
          "height": 265
        },
        "outputId": "00965723-583e-4bbd-c8f0-170b2033940a"
      },
      "source": [
        "result, Ax = plt.subplots()\n",
        "Ax.plot(out.T, color=\"k\")\n",
        "Ax.plot(out.T[:, nout - 1], color=\"g\")\n",
        "plt.show()"
      ],
      "execution_count": 13,
      "outputs": [
        {
          "output_type": "display_data",
          "data": {
            "image/png": "[encoded data removed]",
            "text/plain": [
              "<Figure size 432x288 with 1 Axes>"
            ]
          },
          "metadata": {
            "tags": [],
            "needs_background": "light"
          }
        }
      ]
    },
    {
      "cell_type": "code",
      "metadata": {
        "id": "7tw8Gye9PNf3",
        "colab_type": "code",
        "colab": {}
      },
      "source": [
        "#@title Call to the integrator\n",
        "\n",
        "# call the integrator\n",
        "# out: ndarray = np.zeros((t_steps, x_steps))\n",
        "# print(\"shape of out: \"+str(out.shape))\n",
        "\n",
        "t_out = np.linspace(0, tf, nout)\n",
        "out = odeint(simple_electrodif, Initial_ko_x, t_out, tfirst=True)\n",
        "out=np.transpose(out)\n",
        "# print(\"shape of out: \"+str(odeint(simple_electrodif, Initial_Ko_x, t_out, tfirst=True).shape))\n",
        "\n",
        "result, Ax = plt.subplots()\n",
        "Ax.plot(x_dim,out, color=\"k\")\n",
        "Ax.plot(x_dim,out[:, nout - 1], color=\"g\")\n",
        "plt.show()\n"
      ],
      "execution_count": null,
      "outputs": []
    },
    {
      "cell_type": "code",
      "metadata": {
        "id": "fz8nsdejePCY",
        "colab_type": "code",
        "colab": {}
      },
      "source": [
        ""
      ],
      "execution_count": null,
      "outputs": []
    }
  ]
}