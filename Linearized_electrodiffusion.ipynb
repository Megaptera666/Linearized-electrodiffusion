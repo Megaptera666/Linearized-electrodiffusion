{
  "nbformat": 4,
  "nbformat_minor": 0,
  "metadata": {
    "colab": {
      "name": "Linearized_electrodiffusion.ipynb",
      "provenance": [],
      "collapsed_sections": [],
      "authorship_tag": "ABX9TyNiBkE+XXqYv4u9TQ9G5Uxk",
      "include_colab_link": true
    },
    "kernelspec": {
      "name": "python3",
      "display_name": "Python 3"
    }
  },
  "cells": [
    {
      "cell_type": "markdown",
      "metadata": {
        "id": "view-in-github",
        "colab_type": "text"
      },
      "source": [
        "<a href=\"https://colab.research.google.com/github/Megaptera666/Linearized-electrodiffusion/blob/master/Linearized_electrodiffusion.ipynb\" target=\"_parent\"><img src=\"https://colab.research.google.com/assets/colab-badge.svg\" alt=\"Open In Colab\"/></a>"
      ]
    },
    {
      "cell_type": "markdown",
      "metadata": {
        "id": "lrNxH7ZB2wU0",
        "colab_type": "text"
      },
      "source": [
        "#Electrodiffusion of K<sup>+</sup> through small, tortuous extracellular spaces in the presence of K<sup>+</sup> sources and sinks\n",
        "##Application of a linearized version of the Nernst-Plank equation\n"
      ]
    },
    {
      "cell_type": "markdown",
      "metadata": {
        "id": "QEJ91svHR0z2",
        "colab_type": "text"
      },
      "source": [
        "#Problem definition\n",
        "\n",
        "<p>The brain is comprised of millions of neurons that incenssantly produce cognitive computations. Unlike in the cables and chips of man-made circuits, the electric signals underlying these computations are mediated by the flux of of ions such as K<sup>+</sup>. The number of ions required to carry electric currents is minute. However, in some cases, neurons are so densely packed that the extracellular concentration of K<sup>+</sup> ([K]<sub>o</sub>, in mol cm<sup>-3</sup>) is prone to change, making the regulation of [K]<sub>o</sub> a widespread challenge throughout the brain.\n",
        "\n",
        "<p>This script calculates [K]<sub>o</sub> as a function of position in a two-dimentional space in the presence of K<sup>+</sup> sources and sinks and in the presence of an extracellular electric field. The script utilizes the numerical method of lines to calculate the rate of change in [K]<sub>o</sub>(x) (in mol cm <sup>-3</sup> s<sup>-1</sup>), as follows.\n",
        "\n",
        "<p>The [continuity equation](https://en.wikipedia.org/wiki/Continuity_equation) dictates that, if the lateral flux of K<sup>+</sup> (J<sup>K</sup><sub>electrodiffusion</sub> (x) , in mol cm<sup>-2</sup> s<sup>-1</sup>) is not in balance with the sources or sinks of K<sup>+</sup> (Q<sub>s</sub>, in mol cm<sup>-3</sup> s<sup>-1</sup>), then [K]<sub>o</sub> (x) must be changing in time:\n",
        "$\n",
        "\\begin{align}\n",
        "\\frac{\\partial [K]_o(x)}{\\partial t} &= -\\frac{\\partial J^K_{electrodiffusion}(x)}{\\partial x} + Q_s(x) \\tag{1}\n",
        "\\end{align}$\n",
        "\n",
        "The [Nernst-plank equation](https://en.wikipedia.org/wiki/Nernst%E2%80%93Planck_equation) describes the flux of ions under the influence of both an ionic concentration gradient ($\\frac{\\partial [K]_o}{\\partial x}$ in mol cm <sup>-2</sup>) and an electric field ($\\frac{\\partial Vo}{\\partial x}$, in V cm <sup>-1</sup>)\n",
        "\n",
        "$\n",
        "\\begin{align}\n",
        " J^K_{electrodiffusion}(x) =- D^* \\bigg[\\frac{\\partial [K]_o}{\\partial x} + r [K]_o \\frac{\\partial Vo}{\\partial x} \\bigg] \\tag{2}\n",
        " \\end{align}$"
      ]
    },
    {
      "cell_type": "markdown",
      "metadata": {
        "id": "agtByk08bUS3",
        "colab_type": "text"
      },
      "source": [
        "#Problem definition "
      ]
    },
    {
      "cell_type": "code",
      "metadata": {
        "id": "MHtlIkS-cWKt",
        "colab_type": "code",
        "colab": {}
      },
      "source": [
        "#@title Libraries {display-mode: \"form\"}\n",
        "import numpy as np\n",
        "import scipy.integrate as integrate\n",
        "from numpy.core._multiarray_umath import ndarray\n",
        "from scipy.integrate import odeint\n",
        "import matplotlib.pyplot as plt\n",
        "import matplotlib.animation as animation\n",
        "from matplotlib import rc #This is to display the animation"
      ],
      "execution_count": 3,
      "outputs": []
    },
    {
      "cell_type": "code",
      "metadata": {
        "id": "152S7H3fQtB2",
        "colab_type": "code",
        "colab": {}
      },
      "source": [
        "#@title Geometry and time {display-mode: \"form\"}\n",
        "#@markdown Total length [um]:\n",
        "length_x = 30  #@param{type:\"number\"} \n",
        "#@markdown delta x [um]:\n",
        "delta_x = 0.1 #@param {type:\"number\"}\n",
        "x_steps = round(length_x / delta_x)\n",
        "\n",
        "#@markdown total time [ms]\n",
        "length_t = 200  #@param {type:\"number\"}\n",
        "#@markdown delta t [ms]\n",
        "delta_t = 1.  #@param {type:\"number\"}\n",
        "t_steps = round(length_t / delta_t)\n"
      ],
      "execution_count": 4,
      "outputs": []
    },
    {
      "cell_type": "code",
      "metadata": {
        "id": "DofusdkegNPR",
        "colab_type": "code",
        "colab": {}
      },
      "source": [
        "#@title Physical properties {display-mode: \"form\"}\n",
        "#@markdown Tortuosity factor\n",
        "lambd = 1. #@param {type:\"number\"}\n",
        "#@markdown Difussion coefficient of K in ringers [um^2 s-1]\n",
        "Diffusion_coefficient = 2000  #@param {type:\"number\"} \n",
        "\n",
        "#@markdown sources and sinks \n",
        "#@markdown Magnitude [mM ms-1]\n",
        "source1 = 5  #@param {type:\"number\"} \n",
        "source2 =-4  #@param {type:\"number\"} \n",
        "\n",
        "#@markdown location [um]\n",
        "source1_start = 0  #@param {type:\"number\"} \n",
        "source1_end = 20  #@param {type:\"number\"}\n",
        "source2_start =20  #@param {type:\"number\"} \n",
        "source2_end = 30  #@param {type:\"number\"} \n",
        "\n"
      ],
      "execution_count": 6,
      "outputs": []
    },
    {
      "cell_type": "markdown",
      "metadata": {
        "id": "9ucTDJl5i0Ni",
        "colab_type": "text"
      },
      "source": [
        "#Problem instantiation"
      ]
    },
    {
      "cell_type": "code",
      "metadata": {
        "id": "WzvpF-YPiu3n",
        "colab_type": "code",
        "colab": {}
      },
      "source": [
        "#@title Initial conditions\n",
        "Initial_ko_x = np.zeros(x_steps)\n",
        "Vo_x = np.zeros(x_steps)\n",
        "SRS_alpha = np.zeros(x_steps)\n",
        "SRS_tortuosity = np.zeros(x_steps)\n",
        "D_x = np.zeros(x_steps)\n",
        "source_x = np.zeros(x_steps)\n",
        "sink_x = np.zeros(x_steps)\n",
        "x_dim = np.linspace(0, length_x, x_steps)\n",
        "\n",
        "# Parametrize initial concentration\n",
        "Initial_ko_x[:] = 1.#x_dim[:] / 100.  # [mM]\n",
        "\n",
        "\n",
        "# Parametrize SRS alpha\n",
        "SRS_alpha.fill(1)\n",
        "\n",
        "# Parametrize tortuosity\n",
        "SRS_tortuosity.fill(lambd)\n",
        "\n",
        "# Calculate effective diffusion coefficient\n",
        "D_x[:] = Diffusion_coefficient / SRS_tortuosity[:] ** 2\n",
        "\n",
        "# Parametrize Vo_x\n",
        "Vo_x[:] = 1.  \n",
        "\n",
        "# Calculate dVodx\n",
        "dVodx = np.gradient(Vo_x, delta_x)\n",
        "\n",
        "# Parametrize sources and sinks\n",
        "source_x[0:round(10 / delta_x)] = 5.  # [mM ms-1]\n",
        "# print(source_x)\n",
        "sink_x[round(len(sink_x) - 10 / delta_x):] = -4.  # [mM ms-1]"
      ],
      "execution_count": null,
      "outputs": []
    }
  ]
}